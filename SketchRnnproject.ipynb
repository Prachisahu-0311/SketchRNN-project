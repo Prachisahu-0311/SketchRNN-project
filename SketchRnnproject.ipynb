{
  "cells": [
    {
      "cell_type": "code",
      "execution_count": null,
      "metadata": {
        "colab": {
          "base_uri": "https://localhost:8080/",
          "height": 110
        },
        "id": "tzSplCTarml2",
        "outputId": "467294e9-b213-4ff0-931a-e9ae2b98e9b0"
      },
      "outputs": [
        {
          "output_type": "error",
          "ename": "SyntaxError",
          "evalue": "invalid syntax (<ipython-input-1-951d639f6b1d>, line 27)",
          "traceback": [
            "\u001b[0;36m  File \u001b[0;32m\"<ipython-input-1-951d639f6b1d>\"\u001b[0;36m, line \u001b[0;32m27\u001b[0m\n\u001b[0;31m    NUM_EPOCHS =\u001b[0m\n\u001b[0m                ^\u001b[0m\n\u001b[0;31mSyntaxError\u001b[0m\u001b[0;31m:\u001b[0m invalid syntax\n"
          ]
        }
      ],
      "source": [
        "import torch\n",
        "import torch.nn as nn\n",
        "import torch.optim as optim\n",
        "from torch.utils.data import Dataset, DataLoader\n",
        "import numpy as np\n",
        "import json\n",
        "import os\n",
        "import requests\n",
        "import matplotlib.pyplot as plt\n",
        "from matplotlib.animation import FuncAnimation\n",
        "from sklearn.model_selection import train_test_split\n",
        "from google.colab import files\n",
        "from IPython.display import display, HTML, Image\n",
        "\n",
        "# Device configuration\n",
        "device = torch.cuda.is_available() and torch.device(\"cuda\") or torch.device(\"cpu\")\n",
        "\n",
        "# Hyperparameters\n",
        "NUM_CLASSES = 5\n",
        "HIDDEN_SIZE = 256\n",
        "NUM_LAYERS = 3\n",
        "EMBEDDING_DIM = 128\n",
        "STROKE_DIM = 3\n",
        "MAX_SEQ_LEN = 128\n",
        "BATCH_SIZE = 32\n",
        "LEARNING_RATE = 0.0005\n",
        "NUM_EPOCHS = 30\n",
        "DROPOUT = 0.3\n",
        "PATIENCE = 7\n",
        "SAMPLES_PER_CLASS = 100000\n",
        "\n",
        "CLASSES = [\"apple\", \"square\", \"triangle\", \"circle\",\"eye\"]\n",
        "\n",
        "# Download QuickDraw data\n",
        "def download_quickdraw_data(data_dir=\"/content/quickdraw_data\"):\n",
        "    os.makedirs(data_dir, exist_ok=True)\n",
        "    for class_name in CLASSES:\n",
        "        file_path = os.path.join(data_dir, f\"{class_name}.ndjson\")\n",
        "        url = f\"https://storage.googleapis.com/quickdraw_dataset/full/simplified/{class_name}.ndjson\"\n",
        "        if not os.path.exists(file_path):\n",
        "            print(f\"Downloading {class_name}.ndjson from {url}...\")\n",
        "            response = requests.get(url, stream=True)\n",
        "            response.raise_for_status()\n",
        "            with open(file_path, 'wb') as f:\n",
        "                for chunk in response.iter_content(chunk_size=8192):\n",
        "                    f.write(chunk)\n",
        "            print(f\"Downloaded {class_name}.ndjson to {file_path}\")\n",
        "        else:\n",
        "            print(f\"{class_name}.ndjson already exists at {file_path}\")\n",
        "\n",
        "# Dataset Class\n",
        "class QuickDrawDataset(Dataset):\n",
        "    def __init__(self, data):\n",
        "        self.data = data\n",
        "\n",
        "    def __len__(self):\n",
        "        return len(self.data)\n",
        "\n",
        "    def __getitem__(self, idx):\n",
        "        class_idx, strokes = self.data[idx]\n",
        "        one_hot = torch.zeros(NUM_CLASSES)\n",
        "        one_hot[class_idx] = 1.0\n",
        "        strokes = np.array(strokes)\n",
        "        if len(strokes) > MAX_SEQ_LEN:\n",
        "            strokes = strokes[:MAX_SEQ_LEN]\n",
        "        else:\n",
        "            padding = np.zeros((MAX_SEQ_LEN - len(strokes), STROKE_DIM))\n",
        "            strokes = np.vstack((strokes, padding))\n",
        "        return one_hot, torch.tensor(strokes, dtype=torch.float)\n",
        "\n",
        "# Load QuickDraw data with balancing\n",
        "def load_quickdraw_data(data_dir=\"/content/quickdraw_data\"):\n",
        "    data = []\n",
        "    class_to_idx = {cls: idx for idx, cls in enumerate(CLASSES)}\n",
        "    class_counts = {cls: 0 for cls in CLASSES}\n",
        "\n",
        "    for cls in CLASSES:\n",
        "        file_path = os.path.join(data_dir, f\"{cls}.ndjson\")\n",
        "        if not os.path.exists(file_path):\n",
        "            raise FileNotFoundError(f\"Expected {cls}.ndjson in {data_dir}, but file not found.\")\n",
        "\n",
        "        with open(file_path, 'r') as f:\n",
        "            for line in f:\n",
        "                drawing = json.loads(line)\n",
        "                if drawing.get(\"recognized\", False) and class_counts[cls] < SAMPLES_PER_CLASS:\n",
        "                    strokes = drawing[\"drawing\"]\n",
        "                    processed_strokes = []\n",
        "                    for stroke in strokes:\n",
        "                        x, y = stroke[0], stroke[1]\n",
        "                        for i in range(len(x) - 1):\n",
        "                            delta_x = x[i + 1] - x[i]\n",
        "                            delta_y = y[i + 1] - y[i]\n",
        "                            pen_state = 1 if i < len(x) - 1 else 0\n",
        "                            processed_strokes.append([delta_x, delta_y, pen_state])\n",
        "                    data.append((class_to_idx[cls], processed_strokes))\n",
        "                    class_counts[cls] += 1\n",
        "                if class_counts[cls] >= SAMPLES_PER_CLASS:\n",
        "                    break\n",
        "        print(f\"Loaded {class_counts[cls]} samples for {cls}\")\n",
        "\n",
        "    return data\n",
        "\n",
        "# Model Definition\n",
        "class SketchGenerator(nn.Module):\n",
        "    def __init__(self, num_classes, embedding_dim, hidden_size, num_layers, stroke_dim):\n",
        "        super(SketchGenerator, self).__init__()\n",
        "        self.linear_in = nn.Linear(num_classes, embedding_dim)\n",
        "        nn.init.xavier_uniform_(self.linear_in.weight)\n",
        "        self.lstm = nn.LSTM(embedding_dim + stroke_dim, hidden_size, num_layers,\n",
        "                          batch_first=True, dropout=DROPOUT)\n",
        "        self.dropout = nn.Dropout(DROPOUT)\n",
        "        self.fc = nn.Linear(hidden_size, stroke_dim)\n",
        "        nn.init.xavier_uniform_(self.fc.weight)\n",
        "        self.hidden_size = hidden_size\n",
        "        self.num_layers = num_layers\n",
        "\n",
        "    def forward(self, class_one_hot, strokes, hidden=None):\n",
        "        batch_size = class_one_hot.size(0)\n",
        "        seq_len = strokes.size(1) if strokes is not None else MAX_SEQ_LEN\n",
        "        class_embed = self.linear_in(class_one_hot).unsqueeze(1).repeat(1, seq_len, 1)\n",
        "        inputs = torch.cat((class_embed, strokes), dim=2) if strokes is not None else class_embed\n",
        "        if hidden is None:\n",
        "            hidden = (torch.zeros(self.num_layers, batch_size, self.hidden_size).to(device),\n",
        "                     torch.zeros(self.num_layers, batch_size, self.hidden_size).to(device))\n",
        "        out, hidden = self.lstm(inputs, hidden)\n",
        "        out = self.dropout(out)\n",
        "        out = self.fc(out)\n",
        "        return out, hidden\n",
        "\n",
        "# Training function with loss tracking\n",
        "def train_model(model, train_loader, val_loader, criterion, optimizer, scheduler):\n",
        "    best_val_loss = float('inf')\n",
        "    patience_counter = 0\n",
        "    train_losses = []\n",
        "    val_losses = []\n",
        "\n",
        "    for epoch in range(NUM_EPOCHS):\n",
        "        model.train()\n",
        "        total_train_loss = 0\n",
        "        for class_one_hot, strokes in train_loader:\n",
        "            class_one_hot, strokes = class_one_hot.to(device), strokes.to(device)\n",
        "            optimizer.zero_grad()\n",
        "            output, _ = model(class_one_hot, strokes[:, :-1, :])\n",
        "            loss = criterion(output, strokes[:, 1:, :])\n",
        "            loss.backward()\n",
        "            torch.nn.utils.clip_grad_norm_(model.parameters(), max_norm=1.0)\n",
        "            optimizer.step()\n",
        "            total_train_loss += loss.item()\n",
        "\n",
        "        avg_train_loss = total_train_loss / len(train_loader)\n",
        "        train_losses.append(avg_train_loss)\n",
        "\n",
        "        model.eval()\n",
        "        total_val_loss = 0\n",
        "        class_losses = {cls: 0.0 for cls in CLASSES}\n",
        "        class_counts = {cls: 0 for cls in CLASSES}\n",
        "        with torch.no_grad():\n",
        "            for class_one_hot, strokes in val_loader:\n",
        "                class_one_hot, strokes = class_one_hot.to(device), strokes.to(device)\n",
        "                output, _ = model(class_one_hot, strokes[:, :-1, :])\n",
        "                loss = criterion(output, strokes[:, 1:, :])\n",
        "                total_val_loss += loss.item()\n",
        "                class_idx = torch.argmax(class_one_hot[0]).item()\n",
        "                class_name = CLASSES[class_idx]\n",
        "                class_losses[class_name] += loss.item()\n",
        "                class_counts[class_name] += 1\n",
        "\n",
        "        avg_val_loss = total_val_loss / len(val_loader)\n",
        "        val_losses.append(avg_val_loss)\n",
        "\n",
        "        print(f\"Epoch [{epoch+1}/{NUM_EPOCHS}]\")\n",
        "        print(f\"  Training Loss: {avg_train_loss:.4f}\")\n",
        "        print(f\"  Validation Loss: {avg_val_loss:.4f}\")\n",
        "        print(\"  Class-specific Validation Losses:\")\n",
        "        for cls in CLASSES:\n",
        "            if class_counts[cls] > 0:\n",
        "                print(f\"    {cls}: {class_losses[cls] / class_counts[cls]:.4f}\")\n",
        "\n",
        "        scheduler.step(avg_val_loss)\n",
        "        if avg_val_loss < best_val_loss:\n",
        "            best_val_loss = avg_val_loss\n",
        "            patience_counter = 0\n",
        "            torch.save(model.state_dict(), \"/content/sketch_generator_best.pth\")\n",
        "        else:\n",
        "            patience_counter += 1\n",
        "            if patience_counter >= PATIENCE:\n",
        "                print(\"Early stopping triggered\")\n",
        "                break\n",
        "\n",
        "    print(f\"\\nTraining completed. Best Validation Loss: {best_val_loss:.4f}\")\n",
        "\n",
        "    plt.figure(figsize=(10, 6))\n",
        "    plt.plot(range(1, len(train_losses) + 1), train_losses, label='Training Loss')\n",
        "    plt.plot(range(1, len(val_losses) + 1), val_losses, label='Validation Loss')\n",
        "    plt.xlabel('Epoch')\n",
        "    plt.ylabel('Loss')\n",
        "    plt.title('Training and Validation Loss vs Epoch')\n",
        "    plt.legend()\n",
        "    plt.grid(True)\n",
        "    plt.show()\n",
        "\n",
        "    return train_losses, val_losses\n",
        "\n",
        "# Simplified visualization function with Colab display and download\n",
        "def visualize_sketch(model, class_one_hot, class_name, actual_strokes, save_path=\"/content/output\"):\n",
        "    model.eval()\n",
        "    os.makedirs(save_path, exist_ok=True)\n",
        "    with torch.no_grad():\n",
        "        strokes = torch.zeros(1, 1, STROKE_DIM).to(device)\n",
        "        hidden = None\n",
        "        generated_strokes = []\n",
        "        for _ in range(MAX_SEQ_LEN):\n",
        "            output, hidden = model(class_one_hot.to(device), strokes, hidden)\n",
        "            strokes = output[:, -1:, :]\n",
        "            generated_strokes.append(strokes.cpu().numpy()[0, 0])\n",
        "\n",
        "    # Helper function to initialize plots\n",
        "    def init_plot(ax, title):\n",
        "        ax.clear()\n",
        "        ax.set_title(title)\n",
        "        ax.invert_yaxis()\n",
        "        ax.set_xlim(-400, 400)\n",
        "        ax.set_ylim(-400, 400)\n",
        "        return []\n",
        "\n",
        "    # Animation function for simple version\n",
        "    fig, (ax1, ax2) = plt.subplots(1, 2, figsize=(10, 5))\n",
        "    actual_lines, pred_lines = [], []\n",
        "\n",
        "    def init():\n",
        "        return init_plot(ax1, f\"Actual: {class_name}\") + init_plot(ax2, f\"Predicted: {class_name}\")\n",
        "\n",
        "    def update(frame):\n",
        "        nonlocal actual_lines, pred_lines\n",
        "        if frame < len(actual_strokes):\n",
        "            delta_x, delta_y, pen_state = actual_strokes[frame]\n",
        "            if pen_state > 0:\n",
        "                x = actual_lines[-1].get_xdata()[-1] if actual_lines else 0\n",
        "                y = actual_lines[-1].get_ydata()[-1] if actual_lines else 0\n",
        "                new_x, new_y = x + delta_x, y + delta_y\n",
        "                line, = ax1.plot([x, new_x], [y, new_y], 'g-')\n",
        "                actual_lines.append(line)\n",
        "        if frame < len(generated_strokes):\n",
        "            delta_x, delta_y, pen_state = generated_strokes[frame]\n",
        "            if pen_state > 0:\n",
        "                x = pred_lines[-1].get_xdata()[-1] if pred_lines else 0\n",
        "                y = pred_lines[-1].get_ydata()[-1] if pred_lines else 0\n",
        "                new_x, new_y = x + delta_x, y + delta_y\n",
        "                line, = ax2.plot([x, new_x], [y, new_y], 'b-')\n",
        "                pred_lines.append(line)\n",
        "        return actual_lines + pred_lines\n",
        "\n",
        "    ani = FuncAnimation(fig, update, frames=max(len(actual_strokes), len(generated_strokes)),\n",
        "                       init_func=init, blit=False, interval=100, repeat=False)\n",
        "    gif_path = f\"{save_path}/{class_name}_sketch.gif\"\n",
        "    png_path = f\"{save_path}/{class_name}_sketch.png\"\n",
        "\n",
        "    # Save GIF\n",
        "    ani.save(gif_path, writer='pillow', fps=10)\n",
        "\n",
        "    # Save final frame as PNG\n",
        "    for frame in range(max(len(actual_strokes), len(generated_strokes))):\n",
        "        update(frame)\n",
        "    plt.savefig(png_path)\n",
        "    plt.close()\n",
        "\n",
        "    print(f\"Saved animation to {gif_path}\")\n",
        "    print(f\"Saved final frame to {png_path}\")\n",
        "\n",
        "    # Display in Colab\n",
        "    display(HTML(f'<img src=\"{gif_path}\" />'))\n",
        "    display(Image(filename=png_path))\n",
        "\n",
        "    # Download files\n",
        "    files.download(gif_path)\n",
        "    files.download(png_path)\n",
        "\n",
        "    # Frame-wise description\n",
        "    print(f\"\\nFrame-wise breakdown of {gif_path}:\")\n",
        "    for i in range(min(10, max(len(actual_strokes), len(generated_strokes)))):\n",
        "        actual_desc = \"No movement (pen up)\"\n",
        "        pred_desc = \"No movement (pen up)\"\n",
        "        if i < len(actual_strokes):\n",
        "            delta_x, delta_y, pen = actual_strokes[i]\n",
        "            if pen > 0:\n",
        "                actual_desc = f\"Draws line with delta_x={delta_x:.2f}, delta_y={delta_y:.2f}\"\n",
        "        if i < len(generated_strokes):\n",
        "            delta_x, delta_y, pen = generated_strokes[i]\n",
        "            if pen > 0:\n",
        "                pred_desc = f\"Draws line with delta_x={delta_x:.2f}, delta_y={delta_y:.2f}\"\n",
        "        print(f\"Frame {i+1}:\")\n",
        "        print(f\"  Actual: {actual_desc}\")\n",
        "        print(f\"  Predicted: {pred_desc}\")\n",
        "\n",
        "# Main execution\n",
        "def main():\n",
        "    download_quickdraw_data()\n",
        "    data = load_quickdraw_data()\n",
        "    train_data, temp_data = train_test_split(data, train_size=0.7, random_state=42)\n",
        "    val_data, test_data = train_test_split(temp_data, train_size=0.5, random_state=42)\n",
        "\n",
        "    train_dataset = QuickDrawDataset(train_data)\n",
        "    val_dataset = QuickDrawDataset(val_data)\n",
        "    test_dataset = QuickDrawDataset(test_data)\n",
        "\n",
        "    train_loader = DataLoader(train_dataset, batch_size=BATCH_SIZE, shuffle=True)\n",
        "    val_loader = DataLoader(val_dataset, batch_size=BATCH_SIZE)\n",
        "    test_loader = DataLoader(test_dataset, batch_size=BATCH_SIZE)\n",
        "\n",
        "    model = SketchGenerator(NUM_CLASSES, EMBEDDING_DIM, HIDDEN_SIZE, NUM_LAYERS, STROKE_DIM).to(device)\n",
        "    criterion = nn.MSELoss()\n",
        "    optimizer = optim.Adam(model.parameters(), lr=LEARNING_RATE)\n",
        "    scheduler = optim.lr_scheduler.ReduceLROnPlateau(optimizer, 'min', patience=3)\n",
        "\n",
        "    train_model(model, train_loader, val_loader, criterion, optimizer, scheduler)\n",
        "    files.download(\"/content/sketch_generator_best.pth\")\n",
        "\n",
        "    for class_name in CLASSES:\n",
        "        class_idx = CLASSES.index(class_name)\n",
        "        class_one_hot = torch.zeros(1, NUM_CLASSES)\n",
        "        class_one_hot[0, class_idx] = 1.0\n",
        "        print(f\"\\nGenerating sample for: {class_name}\")\n",
        "        for cls_one_hot, strokes in test_loader:\n",
        "            if torch.equal(cls_one_hot[0], class_one_hot[0]):\n",
        "                actual_strokes = strokes[0].cpu().numpy()\n",
        "                visualize_sketch(model, class_one_hot, class_name, actual_strokes)\n",
        "                break\n",
        "\n",
        "if __name__ == \"__main__\":\n",
        "    main()"
      ]
    },
    {
      "cell_type": "code",
      "source": [
        "import torch\n",
        "import torch.nn as nn\n",
        "import matplotlib.pyplot as plt\n",
        "from matplotlib.animation import FuncAnimation\n",
        "import os\n",
        "import numpy as np\n",
        "from IPython.display import display, HTML, Image\n",
        "from google.colab import files\n",
        "\n",
        "# Device configuration\n",
        "device = torch.cuda.is_available() and torch.device(\"cuda\") or torch.device(\"cpu\")\n",
        "\n",
        "# Hyperparameters\n",
        "NUM_CLASSES = 5\n",
        "HIDDEN_SIZE = 256\n",
        "NUM_LAYERS = 3\n",
        "EMBEDDING_DIM = 128\n",
        "STROKE_DIM = 3\n",
        "MAX_SEQ_LEN = 64\n",
        "DROPOUT = 0.3\n",
        "CLASSES = [\"apple\", \"eye\", \"square\", \"triangle\", \"circle\"]\n",
        "\n",
        "# Model Definition\n",
        "class SketchGenerator(nn.Module):\n",
        "    def __init__(self, num_classes, embedding_dim, hidden_size, num_layers, stroke_dim):\n",
        "        super(SketchGenerator, self).__init__()\n",
        "        self.linear_in = nn.Linear(num_classes, embedding_dim)\n",
        "        nn.init.xavier_uniform_(self.linear_in.weight)\n",
        "        self.lstm = nn.LSTM(embedding_dim + stroke_dim, hidden_size, num_layers,\n",
        "                          batch_first=True, dropout=DROPOUT)\n",
        "        self.dropout = nn.Dropout(DROPOUT)\n",
        "        self.fc = nn.Linear(hidden_size, stroke_dim)\n",
        "        nn.init.xavier_uniform_(self.fc.weight)\n",
        "        self.hidden_size = hidden_size\n",
        "        self.num_layers = num_layers\n",
        "\n",
        "    def forward(self, class_one_hot, strokes, hidden=None):\n",
        "        batch_size = class_one_hot.size(0)\n",
        "        seq_len = strokes.size(1) if strokes is not None else MAX_SEQ_LEN\n",
        "        class_embed = self.linear_in(class_one_hot).unsqueeze(1).repeat(1, seq_len, 1)\n",
        "        inputs = torch.cat((class_embed, strokes), dim=2) if strokes is not None else class_embed\n",
        "        if hidden is None:\n",
        "            hidden = (torch.zeros(self.num_layers, batch_size, self.hidden_size).to(device),\n",
        "                     torch.zeros(self.num_layers, batch_size, self.hidden_size).to(device))\n",
        "        out, hidden = self.lstm(inputs, hidden)\n",
        "        out = self.dropout(out)\n",
        "        out = self.fc(out)\n",
        "        return out, hidden\n",
        "\n",
        "# Visualization function\n",
        "def visualize_sketch(model, class_one_hot, class_name, weights_path, save_path=\"/content/output\"):\n",
        "    model.eval()\n",
        "    os.makedirs(save_path, exist_ok=True)\n",
        "\n",
        "    # Load weights\n",
        "    model.load_state_dict(torch.load(weights_path, map_location=device))\n",
        "\n",
        "    with torch.no_grad():\n",
        "        strokes = torch.zeros(1, 1, STROKE_DIM).to(device)\n",
        "        hidden = None\n",
        "        generated_strokes = []\n",
        "        for _ in range(MAX_SEQ_LEN):\n",
        "            output, hidden = model(class_one_hot.to(device), strokes, hidden)\n",
        "            strokes = output[:, -1:, :]\n",
        "            generated_strokes.append(strokes.cpu().numpy()[0, 0])\n",
        "\n",
        "    # Helper function to initialize plots\n",
        "    def init_plot(ax, title):\n",
        "        ax.clear()\n",
        "        ax.set_title(title)\n",
        "        ax.invert_yaxis()\n",
        "        ax.set_xlim(-400, 400)\n",
        "        ax.set_ylim(-400, 400)\n",
        "        return []\n",
        "\n",
        "    # Animation function\n",
        "    fig, ax = plt.subplots(figsize=(5, 5))\n",
        "    pred_lines = []\n",
        "\n",
        "    def init():\n",
        "        return init_plot(ax, f\"Predicted: {class_name}\")\n",
        "\n",
        "    def update(frame):\n",
        "        nonlocal pred_lines\n",
        "        if frame < len(generated_strokes):\n",
        "            delta_x, delta_y, pen_state = generated_strokes[frame]\n",
        "            if pen_state != 0:\n",
        "                x = pred_lines[-1].get_xdata()[-1] if pred_lines else 0\n",
        "                y = pred_lines[-1].get_ydata()[-1] if pred_lines else 0\n",
        "                new_x, new_y = x + delta_x, y + delta_y\n",
        "                line, = ax.plot([x, new_x], [y, new_y], 'b-')\n",
        "                pred_lines.append(line)\n",
        "        return pred_lines\n",
        "\n",
        "    ani = FuncAnimation(fig, update, frames=len(generated_strokes),\n",
        "                       init_func=init, blit=False, interval=100, repeat=False)\n",
        "    gif_path = f\"{save_path}/{class_name}_sketch.gif\"\n",
        "    png_path = f\"{save_path}/{class_name}_sketch.png\"\n",
        "\n",
        "    # Save GIF\n",
        "    ani.save(gif_path, writer='pillow', fps=10)\n",
        "\n",
        "    # Save final frame as PNG\n",
        "    for frame in range(len(generated_strokes)):\n",
        "        update(frame)\n",
        "    plt.savefig(png_path)\n",
        "    plt.close()\n",
        "\n",
        "    print(f\"Saved animation to {gif_path}\")\n",
        "    print(f\"Saved final frame to {png_path}\")\n",
        "\n",
        "    # Display in Colab\n",
        "    display(HTML(f'<img src=\"{gif_path}\" />'))\n",
        "    display(Image(filename=png_path))\n",
        "\n",
        "    # Download files\n",
        "    files.download(gif_path)\n",
        "    files.download(png_path)\n",
        "\n",
        "    # Frame-wise description\n",
        "    print(f\"\\nFrame-wise breakdown of {gif_path}:\")\n",
        "    for i in range(min(10, len(generated_strokes))):\n",
        "        pred_desc = \"No movement (pen up)\"\n",
        "        delta_x, delta_y, pen = generated_strokes[i]\n",
        "        if pen > 0:\n",
        "            pred_desc = f\"Draws line with delta_x={delta_x:.2f}, delta_y={delta_y:.2f}\"\n",
        "        print(f\"Frame {i+1}:\")\n",
        "        print(f\"  Predicted: {pred_desc}\")\n",
        "\n",
        "# Main function to reproduce sketches\n",
        "def reproduce_sketches(weights_path=\"/content/sketch_generator.pth\"):\n",
        "    model = SketchGenerator(NUM_CLASSES, EMBEDDING_DIM, HIDDEN_SIZE, NUM_LAYERS, STROKE_DIM).to(device)\n",
        "\n",
        "    for class_name in CLASSES:\n",
        "        class_idx = CLASSES.index(class_name)\n",
        "        class_one_hot = torch.zeros(1, NUM_CLASSES)\n",
        "        class_one_hot[0, class_idx] = 1.0\n",
        "        print(f\"\\nGenerating sample for: {class_name}\")\n",
        "        visualize_sketch(model, class_one_hot, class_name, weights_path)\n",
        "\n",
        "if __name__ == \"__main__\":\n",
        "    weights_path = \"/content/sketch_generator_best.pth\"  # Update this path if needed\n",
        "    reproduce_sketches(weights_path)"
      ],
      "metadata": {
        "colab": {
          "base_uri": "https://localhost:8080/",
          "height": 1000,
          "resources": {
            "http://localhost:8080/content/output/apple_sketch.gif": {
              "data": "",
              "ok": false,
              "headers": [
                [
                  "content-length",
                  "0"
                ]
              ],
              "status": 404,
              "status_text": ""
            },
            "http://localhost:8080/content/output/eye_sketch.gif": {
              "data": "",
              "ok": false,
              "headers": [
                [
                  "content-length",
                  "0"
                ]
              ],
              "status": 404,
              "status_text": ""
            },
            "http://localhost:8080/content/output/square_sketch.gif": {
              "data": "",
              "ok": false,
              "headers": [
                [
                  "content-length",
                  "0"
                ]
              ],
              "status": 404,
              "status_text": ""
            },
            "http://localhost:8080/content/output/triangle_sketch.gif": {
              "data": "",
              "ok": false,
              "headers": [
                [
                  "content-length",
                  "0"
                ]
              ],
              "status": 404,
              "status_text": ""
            },
            "http://localhost:8080/content/output/circle_sketch.gif": {
              "data": "",
              "ok": false,
              "headers": [
                [
                  "content-length",
                  "0"
                ]
              ],
              "status": 404,
              "status_text": ""
            }
          }
        },
        "id": "RzNgLy9K-Yff",
        "outputId": "c827f933-bbaa-4f0b-8ea4-5df23f4f77e2"
      },
      "execution_count": null,
      "outputs": [
        {
          "output_type": "stream",
          "name": "stdout",
          "text": [
            "\n",
            "Generating sample for: apple\n",
            "Saved animation to /content/output/apple_sketch.gif\n",
            "Saved final frame to /content/output/apple_sketch.png\n"
          ]
        },
        {
          "output_type": "display_data",
          "data": {
            "text/plain": [
              "<IPython.core.display.HTML object>"
            ],
            "text/html": [
              "<img src=\"/content/output/apple_sketch.gif\" />"
            ]
          },
          "metadata": {}
        },
        {
          "output_type": "display_data",
          "data": {
            "image/png": "[encoded data removed]",
            "text/plain": [
              "<IPython.core.display.Image object>"
            ]
          },
          "metadata": {}
        },
        {
          "output_type": "display_data",
          "data": {
            "text/plain": [
              "<IPython.core.display.Javascript object>"
            ],
            "application/javascript": [
              "\n",
              "    async function download(id, filename, size) {\n",
              "      if (!google.colab.kernel.accessAllowed) {\n",
              "        return;\n",
              "      }\n",
              "      const div = document.createElement('div');\n",
              "      const label = document.createElement('label');\n",
              "      label.textContent = `Downloading \"${filename}\": `;\n",
              "      div.appendChild(label);\n",
              "      const progress = document.createElement('progress');\n",
              "      progress.max = size;\n",
              "      div.appendChild(progress);\n",
              "      document.body.appendChild(div);\n",
              "\n",
              "      const buffers = [];\n",
              "      let downloaded = 0;\n",
              "\n",
              "      const channel = await google.colab.kernel.comms.open(id);\n",
              "      // Send a message to notify the kernel that we're ready.\n",
              "      channel.send({})\n",
              "\n",
              "      for await (const message of channel.messages) {\n",
              "        // Send a message to notify the kernel that we're ready.\n",
              "        channel.send({})\n",
              "        if (message.buffers) {\n",
              "          for (const buffer of message.buffers) {\n",
              "            buffers.push(buffer);\n",
              "            downloaded += buffer.byteLength;\n",
              "            progress.value = downloaded;\n",
              "          }\n",
              "        }\n",
              "      }\n",
              "      const blob = new Blob(buffers, {type: 'application/binary'});\n",
              "      const a = document.createElement('a');\n",
              "      a.href = window.URL.createObjectURL(blob);\n",
              "      a.download = filename;\n",
              "      div.appendChild(a);\n",
              "      a.click();\n",
              "      div.remove();\n",
              "    }\n",
              "  "
            ]
          },
          "metadata": {}
        },
        {
          "output_type": "display_data",
          "data": {
            "text/plain": [
              "<IPython.core.display.Javascript object>"
            ],
            "application/javascript": [
              "download(\"download_a12cd335-768b-49ff-a5fb-e8959c81e3cf\", \"apple_sketch.gif\", 123100)"
            ]
          },
          "metadata": {}
        },
        {
          "output_type": "display_data",
          "data": {
            "text/plain": [
              "<IPython.core.display.Javascript object>"
            ],
            "application/javascript": [
              "\n",
              "    async function download(id, filename, size) {\n",
              "      if (!google.colab.kernel.accessAllowed) {\n",
              "        return;\n",
              "      }\n",
              "      const div = document.createElement('div');\n",
              "      const label = document.createElement('label');\n",
              "      label.textContent = `Downloading \"${filename}\": `;\n",
              "      div.appendChild(label);\n",
              "      const progress = document.createElement('progress');\n",
              "      progress.max = size;\n",
              "      div.appendChild(progress);\n",
              "      document.body.appendChild(div);\n",
              "\n",
              "      const buffers = [];\n",
              "      let downloaded = 0;\n",
              "\n",
              "      const channel = await google.colab.kernel.comms.open(id);\n",
              "      // Send a message to notify the kernel that we're ready.\n",
              "      channel.send({})\n",
              "\n",
              "      for await (const message of channel.messages) {\n",
              "        // Send a message to notify the kernel that we're ready.\n",
              "        channel.send({})\n",
              "        if (message.buffers) {\n",
              "          for (const buffer of message.buffers) {\n",
              "            buffers.push(buffer);\n",
              "            downloaded += buffer.byteLength;\n",
              "            progress.value = downloaded;\n",
              "          }\n",
              "        }\n",
              "      }\n",
              "      const blob = new Blob(buffers, {type: 'application/binary'});\n",
              "      const a = document.createElement('a');\n",
              "      a.href = window.URL.createObjectURL(blob);\n",
              "      a.download = filename;\n",
              "      div.appendChild(a);\n",
              "      a.click();\n",
              "      div.remove();\n",
              "    }\n",
              "  "
            ]
          },
          "metadata": {}
        },
        {
          "output_type": "display_data",
          "data": {
            "text/plain": [
              "<IPython.core.display.Javascript object>"
            ],
            "application/javascript": [
              "download(\"download_ea0517e4-5885-489f-abd0-9ce2a6a42054\", \"apple_sketch.png\", 20645)"
            ]
          },
          "metadata": {}
        },
        {
          "output_type": "stream",
          "name": "stdout",
          "text": [
            "\n",
            "Frame-wise breakdown of /content/output/apple_sketch.gif:\n",
            "Frame 1:\n",
            "  Predicted: No movement (pen up)\n",
            "Frame 2:\n",
            "  Predicted: Draws line with delta_x=-5.52, delta_y=-0.53\n",
            "Frame 3:\n",
            "  Predicted: Draws line with delta_x=-14.52, delta_y=1.05\n",
            "Frame 4:\n",
            "  Predicted: Draws line with delta_x=-19.80, delta_y=8.23\n",
            "Frame 5:\n",
            "  Predicted: Draws line with delta_x=-20.40, delta_y=16.97\n",
            "Frame 6:\n",
            "  Predicted: Draws line with delta_x=-13.59, delta_y=23.95\n",
            "Frame 7:\n",
            "  Predicted: Draws line with delta_x=-5.77, delta_y=29.02\n",
            "Frame 8:\n",
            "  Predicted: Draws line with delta_x=1.01, delta_y=32.35\n",
            "Frame 9:\n",
            "  Predicted: Draws line with delta_x=10.10, delta_y=24.96\n",
            "Frame 10:\n",
            "  Predicted: Draws line with delta_x=17.71, delta_y=19.79\n",
            "\n",
            "Generating sample for: eye\n",
            "Saved animation to /content/output/eye_sketch.gif\n",
            "Saved final frame to /content/output/eye_sketch.png\n"
          ]
        },
        {
          "output_type": "display_data",
          "data": {
            "text/plain": [
              "<IPython.core.display.HTML object>"
            ],
            "text/html": [
              "<img src=\"/content/output/eye_sketch.gif\" />"
            ]
          },
          "metadata": {}
        },
        {
          "output_type": "display_data",
          "data": {
            "image/png": "[encoded data removed]",
            "text/plain": [
              "<IPython.core.display.Image object>"
            ]
          },
          "metadata": {}
        },
        {
          "output_type": "display_data",
          "data": {
            "text/plain": [
              "<IPython.core.display.Javascript object>"
            ],
            "application/javascript": [
              "\n",
              "    async function download(id, filename, size) {\n",
              "      if (!google.colab.kernel.accessAllowed) {\n",
              "        return;\n",
              "      }\n",
              "      const div = document.createElement('div');\n",
              "      const label = document.createElement('label');\n",
              "      label.textContent = `Downloading \"${filename}\": `;\n",
              "      div.appendChild(label);\n",
              "      const progress = document.createElement('progress');\n",
              "      progress.max = size;\n",
              "      div.appendChild(progress);\n",
              "      document.body.appendChild(div);\n",
              "\n",
              "      const buffers = [];\n",
              "      let downloaded = 0;\n",
              "\n",
              "      const channel = await google.colab.kernel.comms.open(id);\n",
              "      // Send a message to notify the kernel that we're ready.\n",
              "      channel.send({})\n",
              "\n",
              "      for await (const message of channel.messages) {\n",
              "        // Send a message to notify the kernel that we're ready.\n",
              "        channel.send({})\n",
              "        if (message.buffers) {\n",
              "          for (const buffer of message.buffers) {\n",
              "            buffers.push(buffer);\n",
              "            downloaded += buffer.byteLength;\n",
              "            progress.value = downloaded;\n",
              "          }\n",
              "        }\n",
              "      }\n",
              "      const blob = new Blob(buffers, {type: 'application/binary'});\n",
              "      const a = document.createElement('a');\n",
              "      a.href = window.URL.createObjectURL(blob);\n",
              "      a.download = filename;\n",
              "      div.appendChild(a);\n",
              "      a.click();\n",
              "      div.remove();\n",
              "    }\n",
              "  "
            ]
          },
          "metadata": {}
        },
        {
          "output_type": "display_data",
          "data": {
            "text/plain": [
              "<IPython.core.display.Javascript object>"
            ],
            "application/javascript": [
              "download(\"download_30234cc7-f780-4413-9dcf-088c5a08dd67\", \"eye_sketch.gif\", 67956)"
            ]
          },
          "metadata": {}
        },
        {
          "output_type": "display_data",
          "data": {
            "text/plain": [
              "<IPython.core.display.Javascript object>"
            ],
            "application/javascript": [
              "\n",
              "    async function download(id, filename, size) {\n",
              "      if (!google.colab.kernel.accessAllowed) {\n",
              "        return;\n",
              "      }\n",
              "      const div = document.createElement('div');\n",
              "      const label = document.createElement('label');\n",
              "      label.textContent = `Downloading \"${filename}\": `;\n",
              "      div.appendChild(label);\n",
              "      const progress = document.createElement('progress');\n",
              "      progress.max = size;\n",
              "      div.appendChild(progress);\n",
              "      document.body.appendChild(div);\n",
              "\n",
              "      const buffers = [];\n",
              "      let downloaded = 0;\n",
              "\n",
              "      const channel = await google.colab.kernel.comms.open(id);\n",
              "      // Send a message to notify the kernel that we're ready.\n",
              "      channel.send({})\n",
              "\n",
              "      for await (const message of channel.messages) {\n",
              "        // Send a message to notify the kernel that we're ready.\n",
              "        channel.send({})\n",
              "        if (message.buffers) {\n",
              "          for (const buffer of message.buffers) {\n",
              "            buffers.push(buffer);\n",
              "            downloaded += buffer.byteLength;\n",
              "            progress.value = downloaded;\n",
              "          }\n",
              "        }\n",
              "      }\n",
              "      const blob = new Blob(buffers, {type: 'application/binary'});\n",
              "      const a = document.createElement('a');\n",
              "      a.href = window.URL.createObjectURL(blob);\n",
              "      a.download = filename;\n",
              "      div.appendChild(a);\n",
              "      a.click();\n",
              "      div.remove();\n",
              "    }\n",
              "  "
            ]
          },
          "metadata": {}
        },
        {
          "output_type": "display_data",
          "data": {
            "text/plain": [
              "<IPython.core.display.Javascript object>"
            ],
            "application/javascript": [
              "download(\"download_b3a50830-3ba6-466c-8b63-29bfd85b0954\", \"eye_sketch.png\", 13742)"
            ]
          },
          "metadata": {}
        },
        {
          "output_type": "stream",
          "name": "stdout",
          "text": [
            "\n",
            "Frame-wise breakdown of /content/output/eye_sketch.gif:\n",
            "Frame 1:\n",
            "  Predicted: Draws line with delta_x=0.55, delta_y=-0.90\n",
            "Frame 2:\n",
            "  Predicted: Draws line with delta_x=1.31, delta_y=-1.11\n",
            "Frame 3:\n",
            "  Predicted: Draws line with delta_x=0.09, delta_y=-0.14\n",
            "Frame 4:\n",
            "  Predicted: Draws line with delta_x=-0.02, delta_y=-0.01\n",
            "Frame 5:\n",
            "  Predicted: Draws line with delta_x=-0.02, delta_y=0.00\n",
            "Frame 6:\n",
            "  Predicted: Draws line with delta_x=-0.02, delta_y=0.01\n",
            "Frame 7:\n",
            "  Predicted: Draws line with delta_x=-0.02, delta_y=0.01\n",
            "Frame 8:\n",
            "  Predicted: Draws line with delta_x=-0.02, delta_y=0.01\n",
            "Frame 9:\n",
            "  Predicted: Draws line with delta_x=-0.02, delta_y=0.01\n",
            "Frame 10:\n",
            "  Predicted: Draws line with delta_x=-0.02, delta_y=0.01\n",
            "\n",
            "Generating sample for: square\n",
            "Saved animation to /content/output/square_sketch.gif\n",
            "Saved final frame to /content/output/square_sketch.png\n"
          ]
        },
        {
          "output_type": "display_data",
          "data": {
            "text/plain": [
              "<IPython.core.display.HTML object>"
            ],
            "text/html": [
              "<img src=\"/content/output/square_sketch.gif\" />"
            ]
          },
          "metadata": {}
        },
        {
          "output_type": "display_data",
          "data": {
            "image/png": "[encoded data removed]",
            "text/plain": [
              "<IPython.core.display.Image object>"
            ]
          },
          "metadata": {}
        },
        {
          "output_type": "display_data",
          "data": {
            "text/plain": [
              "<IPython.core.display.Javascript object>"
            ],
            "application/javascript": [
              "\n",
              "    async function download(id, filename, size) {\n",
              "      if (!google.colab.kernel.accessAllowed) {\n",
              "        return;\n",
              "      }\n",
              "      const div = document.createElement('div');\n",
              "      const label = document.createElement('label');\n",
              "      label.textContent = `Downloading \"${filename}\": `;\n",
              "      div.appendChild(label);\n",
              "      const progress = document.createElement('progress');\n",
              "      progress.max = size;\n",
              "      div.appendChild(progress);\n",
              "      document.body.appendChild(div);\n",
              "\n",
              "      const buffers = [];\n",
              "      let downloaded = 0;\n",
              "\n",
              "      const channel = await google.colab.kernel.comms.open(id);\n",
              "      // Send a message to notify the kernel that we're ready.\n",
              "      channel.send({})\n",
              "\n",
              "      for await (const message of channel.messages) {\n",
              "        // Send a message to notify the kernel that we're ready.\n",
              "        channel.send({})\n",
              "        if (message.buffers) {\n",
              "          for (const buffer of message.buffers) {\n",
              "            buffers.push(buffer);\n",
              "            downloaded += buffer.byteLength;\n",
              "            progress.value = downloaded;\n",
              "          }\n",
              "        }\n",
              "      }\n",
              "      const blob = new Blob(buffers, {type: 'application/binary'});\n",
              "      const a = document.createElement('a');\n",
              "      a.href = window.URL.createObjectURL(blob);\n",
              "      a.download = filename;\n",
              "      div.appendChild(a);\n",
              "      a.click();\n",
              "      div.remove();\n",
              "    }\n",
              "  "
            ]
          },
          "metadata": {}
        },
        {
          "output_type": "display_data",
          "data": {
            "text/plain": [
              "<IPython.core.display.Javascript object>"
            ],
            "application/javascript": [
              "download(\"download_c8ce20ff-ce72-41d7-8978-956e050bf6c7\", \"square_sketch.gif\", 112002)"
            ]
          },
          "metadata": {}
        },
        {
          "output_type": "display_data",
          "data": {
            "text/plain": [
              "<IPython.core.display.Javascript object>"
            ],
            "application/javascript": [
              "\n",
              "    async function download(id, filename, size) {\n",
              "      if (!google.colab.kernel.accessAllowed) {\n",
              "        return;\n",
              "      }\n",
              "      const div = document.createElement('div');\n",
              "      const label = document.createElement('label');\n",
              "      label.textContent = `Downloading \"${filename}\": `;\n",
              "      div.appendChild(label);\n",
              "      const progress = document.createElement('progress');\n",
              "      progress.max = size;\n",
              "      div.appendChild(progress);\n",
              "      document.body.appendChild(div);\n",
              "\n",
              "      const buffers = [];\n",
              "      let downloaded = 0;\n",
              "\n",
              "      const channel = await google.colab.kernel.comms.open(id);\n",
              "      // Send a message to notify the kernel that we're ready.\n",
              "      channel.send({})\n",
              "\n",
              "      for await (const message of channel.messages) {\n",
              "        // Send a message to notify the kernel that we're ready.\n",
              "        channel.send({})\n",
              "        if (message.buffers) {\n",
              "          for (const buffer of message.buffers) {\n",
              "            buffers.push(buffer);\n",
              "            downloaded += buffer.byteLength;\n",
              "            progress.value = downloaded;\n",
              "          }\n",
              "        }\n",
              "      }\n",
              "      const blob = new Blob(buffers, {type: 'application/binary'});\n",
              "      const a = document.createElement('a');\n",
              "      a.href = window.URL.createObjectURL(blob);\n",
              "      a.download = filename;\n",
              "      div.appendChild(a);\n",
              "      a.click();\n",
              "      div.remove();\n",
              "    }\n",
              "  "
            ]
          },
          "metadata": {}
        },
        {
          "output_type": "display_data",
          "data": {
            "text/plain": [
              "<IPython.core.display.Javascript object>"
            ],
            "application/javascript": [
              "download(\"download_6a0d8a00-97cf-4712-8940-41f66975ca90\", \"square_sketch.png\", 17888)"
            ]
          },
          "metadata": {}
        },
        {
          "output_type": "stream",
          "name": "stdout",
          "text": [
            "\n",
            "Frame-wise breakdown of /content/output/square_sketch.gif:\n",
            "Frame 1:\n",
            "  Predicted: Draws line with delta_x=-0.34, delta_y=21.17\n",
            "Frame 2:\n",
            "  Predicted: Draws line with delta_x=0.52, delta_y=82.92\n",
            "Frame 3:\n",
            "  Predicted: Draws line with delta_x=4.21, delta_y=67.17\n",
            "Frame 4:\n",
            "  Predicted: Draws line with delta_x=18.96, delta_y=20.10\n",
            "Frame 5:\n",
            "  Predicted: Draws line with delta_x=35.85, delta_y=4.08\n",
            "Frame 6:\n",
            "  Predicted: Draws line with delta_x=105.12, delta_y=-0.92\n",
            "Frame 7:\n",
            "  Predicted: Draws line with delta_x=51.75, delta_y=-3.36\n",
            "Frame 8:\n",
            "  Predicted: Draws line with delta_x=15.91, delta_y=-11.70\n",
            "Frame 9:\n",
            "  Predicted: Draws line with delta_x=8.56, delta_y=-26.58\n",
            "Frame 10:\n",
            "  Predicted: Draws line with delta_x=7.37, delta_y=-78.30\n",
            "\n",
            "Generating sample for: triangle\n",
            "Saved animation to /content/output/triangle_sketch.gif\n",
            "Saved final frame to /content/output/triangle_sketch.png\n"
          ]
        },
        {
          "output_type": "display_data",
          "data": {
            "text/plain": [
              "<IPython.core.display.HTML object>"
            ],
            "text/html": [
              "<img src=\"/content/output/triangle_sketch.gif\" />"
            ]
          },
          "metadata": {}
        },
        {
          "output_type": "display_data",
          "data": {
            "image/png": "[encoded data removed]",
            "text/plain": [
              "<IPython.core.display.Image object>"
            ]
          },
          "metadata": {}
        },
        {
          "output_type": "display_data",
          "data": {
            "text/plain": [
              "<IPython.core.display.Javascript object>"
            ],
            "application/javascript": [
              "\n",
              "    async function download(id, filename, size) {\n",
              "      if (!google.colab.kernel.accessAllowed) {\n",
              "        return;\n",
              "      }\n",
              "      const div = document.createElement('div');\n",
              "      const label = document.createElement('label');\n",
              "      label.textContent = `Downloading \"${filename}\": `;\n",
              "      div.appendChild(label);\n",
              "      const progress = document.createElement('progress');\n",
              "      progress.max = size;\n",
              "      div.appendChild(progress);\n",
              "      document.body.appendChild(div);\n",
              "\n",
              "      const buffers = [];\n",
              "      let downloaded = 0;\n",
              "\n",
              "      const channel = await google.colab.kernel.comms.open(id);\n",
              "      // Send a message to notify the kernel that we're ready.\n",
              "      channel.send({})\n",
              "\n",
              "      for await (const message of channel.messages) {\n",
              "        // Send a message to notify the kernel that we're ready.\n",
              "        channel.send({})\n",
              "        if (message.buffers) {\n",
              "          for (const buffer of message.buffers) {\n",
              "            buffers.push(buffer);\n",
              "            downloaded += buffer.byteLength;\n",
              "            progress.value = downloaded;\n",
              "          }\n",
              "        }\n",
              "      }\n",
              "      const blob = new Blob(buffers, {type: 'application/binary'});\n",
              "      const a = document.createElement('a');\n",
              "      a.href = window.URL.createObjectURL(blob);\n",
              "      a.download = filename;\n",
              "      div.appendChild(a);\n",
              "      a.click();\n",
              "      div.remove();\n",
              "    }\n",
              "  "
            ]
          },
          "metadata": {}
        },
        {
          "output_type": "display_data",
          "data": {
            "text/plain": [
              "<IPython.core.display.Javascript object>"
            ],
            "application/javascript": [
              "download(\"download_1db34d94-d744-4ca4-80b5-f35c3e5c760f\", \"triangle_sketch.gif\", 78502)"
            ]
          },
          "metadata": {}
        },
        {
          "output_type": "display_data",
          "data": {
            "text/plain": [
              "<IPython.core.display.Javascript object>"
            ],
            "application/javascript": [
              "\n",
              "    async function download(id, filename, size) {\n",
              "      if (!google.colab.kernel.accessAllowed) {\n",
              "        return;\n",
              "      }\n",
              "      const div = document.createElement('div');\n",
              "      const label = document.createElement('label');\n",
              "      label.textContent = `Downloading \"${filename}\": `;\n",
              "      div.appendChild(label);\n",
              "      const progress = document.createElement('progress');\n",
              "      progress.max = size;\n",
              "      div.appendChild(progress);\n",
              "      document.body.appendChild(div);\n",
              "\n",
              "      const buffers = [];\n",
              "      let downloaded = 0;\n",
              "\n",
              "      const channel = await google.colab.kernel.comms.open(id);\n",
              "      // Send a message to notify the kernel that we're ready.\n",
              "      channel.send({})\n",
              "\n",
              "      for await (const message of channel.messages) {\n",
              "        // Send a message to notify the kernel that we're ready.\n",
              "        channel.send({})\n",
              "        if (message.buffers) {\n",
              "          for (const buffer of message.buffers) {\n",
              "            buffers.push(buffer);\n",
              "            downloaded += buffer.byteLength;\n",
              "            progress.value = downloaded;\n",
              "          }\n",
              "        }\n",
              "      }\n",
              "      const blob = new Blob(buffers, {type: 'application/binary'});\n",
              "      const a = document.createElement('a');\n",
              "      a.href = window.URL.createObjectURL(blob);\n",
              "      a.download = filename;\n",
              "      div.appendChild(a);\n",
              "      a.click();\n",
              "      div.remove();\n",
              "    }\n",
              "  "
            ]
          },
          "metadata": {}
        },
        {
          "output_type": "display_data",
          "data": {
            "text/plain": [
              "<IPython.core.display.Javascript object>"
            ],
            "application/javascript": [
              "download(\"download_2dd84024-c0ab-42d6-bf23-630d937d223e\", \"triangle_sketch.png\", 14233)"
            ]
          },
          "metadata": {}
        },
        {
          "output_type": "stream",
          "name": "stdout",
          "text": [
            "\n",
            "Frame-wise breakdown of /content/output/triangle_sketch.gif:\n",
            "Frame 1:\n",
            "  Predicted: No movement (pen up)\n",
            "Frame 2:\n",
            "  Predicted: Draws line with delta_x=-0.56, delta_y=0.50\n",
            "Frame 3:\n",
            "  Predicted: Draws line with delta_x=-0.28, delta_y=-0.08\n",
            "Frame 4:\n",
            "  Predicted: Draws line with delta_x=-0.05, delta_y=0.03\n",
            "Frame 5:\n",
            "  Predicted: Draws line with delta_x=-0.02, delta_y=0.01\n",
            "Frame 6:\n",
            "  Predicted: Draws line with delta_x=-0.01, delta_y=0.00\n",
            "Frame 7:\n",
            "  Predicted: Draws line with delta_x=-0.01, delta_y=-0.00\n",
            "Frame 8:\n",
            "  Predicted: Draws line with delta_x=-0.02, delta_y=-0.00\n",
            "Frame 9:\n",
            "  Predicted: Draws line with delta_x=-0.02, delta_y=0.00\n",
            "Frame 10:\n",
            "  Predicted: Draws line with delta_x=-0.02, delta_y=0.00\n",
            "\n",
            "Generating sample for: circle\n",
            "Saved animation to /content/output/circle_sketch.gif\n",
            "Saved final frame to /content/output/circle_sketch.png\n"
          ]
        },
        {
          "output_type": "display_data",
          "data": {
            "text/plain": [
              "<IPython.core.display.HTML object>"
            ],
            "text/html": [
              "<img src=\"/content/output/circle_sketch.gif\" />"
            ]
          },
          "metadata": {}
        },
        {
          "output_type": "display_data",
          "data": {
            "image/png": "[encoded data removed]",
            "text/plain": [
              "<IPython.core.display.Image object>"
            ]
          },
          "metadata": {}
        },
        {
          "output_type": "display_data",
          "data": {
            "text/plain": [
              "<IPython.core.display.Javascript object>"
            ],
            "application/javascript": [
              "\n",
              "    async function download(id, filename, size) {\n",
              "      if (!google.colab.kernel.accessAllowed) {\n",
              "        return;\n",
              "      }\n",
              "      const div = document.createElement('div');\n",
              "      const label = document.createElement('label');\n",
              "      label.textContent = `Downloading \"${filename}\": `;\n",
              "      div.appendChild(label);\n",
              "      const progress = document.createElement('progress');\n",
              "      progress.max = size;\n",
              "      div.appendChild(progress);\n",
              "      document.body.appendChild(div);\n",
              "\n",
              "      const buffers = [];\n",
              "      let downloaded = 0;\n",
              "\n",
              "      const channel = await google.colab.kernel.comms.open(id);\n",
              "      // Send a message to notify the kernel that we're ready.\n",
              "      channel.send({})\n",
              "\n",
              "      for await (const message of channel.messages) {\n",
              "        // Send a message to notify the kernel that we're ready.\n",
              "        channel.send({})\n",
              "        if (message.buffers) {\n",
              "          for (const buffer of message.buffers) {\n",
              "            buffers.push(buffer);\n",
              "            downloaded += buffer.byteLength;\n",
              "            progress.value = downloaded;\n",
              "          }\n",
              "        }\n",
              "      }\n",
              "      const blob = new Blob(buffers, {type: 'application/binary'});\n",
              "      const a = document.createElement('a');\n",
              "      a.href = window.URL.createObjectURL(blob);\n",
              "      a.download = filename;\n",
              "      div.appendChild(a);\n",
              "      a.click();\n",
              "      div.remove();\n",
              "    }\n",
              "  "
            ]
          },
          "metadata": {}
        },
        {
          "output_type": "display_data",
          "data": {
            "text/plain": [
              "<IPython.core.display.Javascript object>"
            ],
            "application/javascript": [
              "download(\"download_38c5d0b9-2e09-45c4-9bae-a958934a1cbd\", \"circle_sketch.gif\", 120788)"
            ]
          },
          "metadata": {}
        },
        {
          "output_type": "display_data",
          "data": {
            "text/plain": [
              "<IPython.core.display.Javascript object>"
            ],
            "application/javascript": [
              "\n",
              "    async function download(id, filename, size) {\n",
              "      if (!google.colab.kernel.accessAllowed) {\n",
              "        return;\n",
              "      }\n",
              "      const div = document.createElement('div');\n",
              "      const label = document.createElement('label');\n",
              "      label.textContent = `Downloading \"${filename}\": `;\n",
              "      div.appendChild(label);\n",
              "      const progress = document.createElement('progress');\n",
              "      progress.max = size;\n",
              "      div.appendChild(progress);\n",
              "      document.body.appendChild(div);\n",
              "\n",
              "      const buffers = [];\n",
              "      let downloaded = 0;\n",
              "\n",
              "      const channel = await google.colab.kernel.comms.open(id);\n",
              "      // Send a message to notify the kernel that we're ready.\n",
              "      channel.send({})\n",
              "\n",
              "      for await (const message of channel.messages) {\n",
              "        // Send a message to notify the kernel that we're ready.\n",
              "        channel.send({})\n",
              "        if (message.buffers) {\n",
              "          for (const buffer of message.buffers) {\n",
              "            buffers.push(buffer);\n",
              "            downloaded += buffer.byteLength;\n",
              "            progress.value = downloaded;\n",
              "          }\n",
              "        }\n",
              "      }\n",
              "      const blob = new Blob(buffers, {type: 'application/binary'});\n",
              "      const a = document.createElement('a');\n",
              "      a.href = window.URL.createObjectURL(blob);\n",
              "      a.download = filename;\n",
              "      div.appendChild(a);\n",
              "      a.click();\n",
              "      div.remove();\n",
              "    }\n",
              "  "
            ]
          },
          "metadata": {}
        },
        {
          "output_type": "display_data",
          "data": {
            "text/plain": [
              "<IPython.core.display.Javascript object>"
            ],
            "application/javascript": [
              "download(\"download_bd2dc0d3-761f-41c9-9852-6c663b62ff13\", \"circle_sketch.png\", 20699)"
            ]
          },
          "metadata": {}
        },
        {
          "output_type": "stream",
          "name": "stdout",
          "text": [
            "\n",
            "Frame-wise breakdown of /content/output/circle_sketch.gif:\n",
            "Frame 1:\n",
            "  Predicted: No movement (pen up)\n",
            "Frame 2:\n",
            "  Predicted: Draws line with delta_x=-7.70, delta_y=1.37\n",
            "Frame 3:\n",
            "  Predicted: Draws line with delta_x=-20.55, delta_y=9.98\n",
            "Frame 4:\n",
            "  Predicted: Draws line with delta_x=-25.77, delta_y=22.35\n",
            "Frame 5:\n",
            "  Predicted: Draws line with delta_x=-19.18, delta_y=27.79\n",
            "Frame 6:\n",
            "  Predicted: Draws line with delta_x=-11.43, delta_y=31.38\n",
            "Frame 7:\n",
            "  Predicted: Draws line with delta_x=-3.23, delta_y=35.18\n",
            "Frame 8:\n",
            "  Predicted: Draws line with delta_x=5.15, delta_y=29.94\n",
            "Frame 9:\n",
            "  Predicted: Draws line with delta_x=13.33, delta_y=26.98\n",
            "Frame 10:\n",
            "  Predicted: Draws line with delta_x=19.67, delta_y=21.95\n"
          ]
        }
      ]
    }
  ],
  "metadata": {
    "accelerator": "GPU",
    "colab": {
      "gpuType": "T4",
      "provenance": []
    },
    "kernelspec": {
      "display_name": "Python 3",
      "name": "python3"
    },
    "language_info": {
      "name": "python"
    }
  },
  "nbformat": 4,
  "nbformat_minor": 0
}